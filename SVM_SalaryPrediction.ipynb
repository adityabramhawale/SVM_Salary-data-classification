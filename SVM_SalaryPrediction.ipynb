{
 "cells": [
  {
   "cell_type": "code",
   "execution_count": 3,
   "id": "b0c1ec88",
   "metadata": {},
   "outputs": [],
   "source": [
    "import numpy as np\n",
    "import pandas as pd\n",
    "import seaborn as sns"
   ]
  },
  {
   "cell_type": "code",
   "execution_count": 4,
   "id": "5fe1c89c",
   "metadata": {},
   "outputs": [],
   "source": [
    "sal_train=pd.read_csv(\"C:\\\\Users\\\\bramhad\\\\OneDrive - Konecranes Plc\\\\Desktop\\\\Data Science\\\\ExcelR\\\\Assignments\\\\14_SVM\\\\SalaryData_Train.csv\")\n",
    "sal_test=pd.read_csv(\"C:\\\\Users\\\\bramhad\\\\OneDrive - Konecranes Plc\\\\Desktop\\\\Data Science\\\\ExcelR\\\\Assignments\\\\14_SVM\\\\SalaryData_Test.csv\")\n",
    "sal_train.columns\n",
    "sal_test.columns\n",
    "string_col=['workclass','education','maritalstatus','occupation','relationship','race','sex','native']"
   ]
  },
  {
   "cell_type": "code",
   "execution_count": 5,
   "id": "b0cb918d",
   "metadata": {},
   "outputs": [],
   "source": [
    "from sklearn import preprocessing\n",
    "label_encoder=preprocessing.LabelEncoder()\n",
    "for i in string_col:\n",
    "    sal_train[i]=label_encoder.fit_transform(sal_train[i])\n",
    "    sal_test[i]=label_encoder.fit_transform(sal_test[i])"
   ]
  },
  {
   "cell_type": "markdown",
   "id": "c75b4b0c",
   "metadata": {},
   "source": [
    "#### As this dataset is having large volume of data about 30k rows in training dataset and 16k rows in testing dataset. For this much large dataset to take in account we need strong PC hardware to support this. So, at the primary stage we are considering only 500 observations of the train data and 300 observations of the test data."
   ]
  },
  {
   "cell_type": "code",
   "execution_count": 6,
   "id": "f7f3a36f",
   "metadata": {},
   "outputs": [],
   "source": [
    "columns=list(sal_train.columns)\n",
    "train_x=sal_train.iloc[0:500,0:13]\n",
    "train_y=sal_train.iloc[0:500,13]\n",
    "test_x=sal_test.iloc[0:300,0:13]\n",
    "test_y=sal_test.iloc[0:300,13]"
   ]
  },
  {
   "cell_type": "markdown",
   "id": "939b58ef",
   "metadata": {},
   "source": [
    "### SVM Classification using kernels: linear,poly,rbf"
   ]
  },
  {
   "cell_type": "code",
   "execution_count": 7,
   "id": "756d8bcd",
   "metadata": {},
   "outputs": [],
   "source": [
    "from sklearn.svm import SVC"
   ]
  },
  {
   "cell_type": "markdown",
   "id": "66482102",
   "metadata": {},
   "source": [
    "### Using Kernel as linear type"
   ]
  },
  {
   "cell_type": "code",
   "execution_count": 8,
   "id": "c873ce9d",
   "metadata": {},
   "outputs": [],
   "source": [
    "model_linear=SVC(kernel='linear')\n",
    "model_linear.fit(train_x,train_y)\n",
    "train_pred_lin=model_linear.predict(train_x)\n",
    "test_pred_lin=model_linear.predict(test_x)\n",
    "train_lin_acc=np.mean(train_pred_lin==train_y)\n",
    "test_lin_acc=np.mean(test_pred_lin==test_y)"
   ]
  },
  {
   "cell_type": "code",
   "execution_count": 9,
   "id": "a6fc0b60",
   "metadata": {},
   "outputs": [
    {
     "data": {
      "text/plain": [
       "0.8166666666666667"
      ]
     },
     "execution_count": 9,
     "metadata": {},
     "output_type": "execute_result"
    }
   ],
   "source": [
    "train_lin_acc\n",
    "test_lin_acc"
   ]
  },
  {
   "cell_type": "markdown",
   "id": "e26b986a",
   "metadata": {},
   "source": [
    "#### So with the linear kernel type accuracy is 81.6%"
   ]
  },
  {
   "cell_type": "markdown",
   "id": "fbe53c63",
   "metadata": {},
   "source": [
    "### Using Kernel as rbf type"
   ]
  },
  {
   "cell_type": "code",
   "execution_count": 10,
   "id": "a68cf754",
   "metadata": {},
   "outputs": [],
   "source": [
    "model_rbf=SVC(kernel='rbf')\n",
    "model_rbf.fit(train_x,train_y)\n",
    "train_pred_rbf=model_rbf.predict(train_x)\n",
    "test_pred_rbf=model_rbf.predict(test_x)\n",
    "train_rbf_acc=np.mean(train_pred_rbf==train_y)\n",
    "test_rbf_acc=np.mean(test_pred_rbf==test_y)"
   ]
  },
  {
   "cell_type": "code",
   "execution_count": 11,
   "id": "400e18c3",
   "metadata": {},
   "outputs": [
    {
     "data": {
      "text/plain": [
       "0.8033333333333333"
      ]
     },
     "execution_count": 11,
     "metadata": {},
     "output_type": "execute_result"
    }
   ],
   "source": [
    "train_rbf_acc\n",
    "test_rbf_acc"
   ]
  },
  {
   "cell_type": "markdown",
   "id": "fb7a77a6",
   "metadata": {},
   "source": [
    "#### So with the rbf kernel type accuracy is 80.3%"
   ]
  }
 ],
 "metadata": {
  "kernelspec": {
   "display_name": "Python 3",
   "language": "python",
   "name": "python3"
  },
  "language_info": {
   "codemirror_mode": {
    "name": "ipython",
    "version": 3
   },
   "file_extension": ".py",
   "mimetype": "text/x-python",
   "name": "python",
   "nbconvert_exporter": "python",
   "pygments_lexer": "ipython3",
   "version": "3.8.8"
  }
 },
 "nbformat": 4,
 "nbformat_minor": 5
}
